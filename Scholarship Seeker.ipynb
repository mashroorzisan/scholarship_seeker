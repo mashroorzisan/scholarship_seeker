{
 "cells": [
  {
   "cell_type": "markdown",
   "id": "2be5fe33",
   "metadata": {},
   "source": [
    "# Scholarship Seeker: \n",
    "### A Data-Driven Approach to Student Selection\n"
   ]
  },
  {
   "cell_type": "code",
   "execution_count": 1,
   "id": "caca4f8b",
   "metadata": {},
   "outputs": [],
   "source": [
    "import numpy as np"
   ]
  },
  {
   "cell_type": "code",
   "execution_count": 4,
   "id": "0f9fd90b",
   "metadata": {},
   "outputs": [
    {
     "data": {
      "text/plain": [
       "array([(1, 337, 118, 4, 4.5, 4.5, 9.65, 1, 0.92),\n",
       "       (2, 324, 107, 4, 4. , 4.5, 8.87, 1, 0.76)],\n",
       "      dtype=[('Serial_No', '<i4'), ('GRE_Score', '<i4'), ('TOEFL_Score', '<i4'), ('University_Rating', '<i4'), ('SOP', '<f8'), ('LOR', '<f8'), ('CGPA', '<f8'), ('Research', '<i4'), ('Chance_of_Admit', '<f8')])"
      ]
     },
     "execution_count": 4,
     "metadata": {},
     "output_type": "execute_result"
    }
   ],
   "source": [
    "# Load the 'admission.csv' file into a structured NumPy array\n",
    "# - dtype=None: Automatically determine the data type for each column\n",
    "# - delimiter=',': Use comma as the column delimiter\n",
    "# - skip_header=1: Skip the first row (header) in the CSV file\n",
    "# - names=(\"Serial No.\",\"GRE Score\",\"TOEFL Score\",\"University Rating\",\"SOP\",\"LOR \",\"CGPA\",\"Research\",\"Chance of Admit\"):\n",
    "#   Assign custom names to each column in the array\n",
    "\n",
    "grad_students = np.genfromtxt('admission.csv',dtype=None, delimiter=',', skip_header=1,\n",
    "                     names=(\"Serial No.\",\"GRE Score\",\"TOEFL Score\",\"University Rating\",\"SOP\",\"LOR \",\"CGPA\",\"Research\",\"Chance of Admit\"))\n",
    "grad_students[:2]"
   ]
  },
  {
   "cell_type": "markdown",
   "id": "1f69bec9",
   "metadata": {},
   "source": [
    "#### 1. What is the average GRE Score of the students in the dataset?\n",
    "\n"
   ]
  },
  {
   "cell_type": "code",
   "execution_count": 16,
   "id": "e2cce24b",
   "metadata": {},
   "outputs": [
    {
     "name": "stdout",
     "output_type": "stream",
     "text": [
      "The average GRE score of the students is 316.8075\n"
     ]
    }
   ],
   "source": [
    "mean_gre_score = grad_students['GRE_Score'].mean()\n",
    "print(f'The average GRE score of the students is {mean_gre_score}.')"
   ]
  },
  {
   "cell_type": "markdown",
   "id": "0fcb3fde",
   "metadata": {},
   "source": [
    "#### 2. How many students have a TOEFL Score greater than 110?\n",
    "\n"
   ]
  },
  {
   "cell_type": "code",
   "execution_count": 17,
   "id": "cddf2423",
   "metadata": {},
   "outputs": [
    {
     "name": "stdout",
     "output_type": "stream",
     "text": [
      "The number of students having TOEFL Score greater than 110 is 120.\n"
     ]
    }
   ],
   "source": [
    "t_score_gt_110 = len(grad_students[grad_students['TOEFL_Score']>110])\n",
    "print(f'The number of students having TOEFL Score greater than 110 is {t_score_gt_110}.')"
   ]
  },
  {
   "cell_type": "markdown",
   "id": "1a2d1753",
   "metadata": {},
   "source": [
    "#### 3. How many students have conducted research?\n",
    "\n"
   ]
  },
  {
   "cell_type": "code",
   "execution_count": 84,
   "id": "6ac46b34",
   "metadata": {},
   "outputs": [
    {
     "name": "stdout",
     "output_type": "stream",
     "text": [
      "Total of 219 students conducted research.\n"
     ]
    }
   ],
   "source": [
    "no_of_research_stds = len(grad_students[grad_students[\"Research\"]==1])\n",
    "print(f\"Total of {no_of_research_stds} students conducted research.\")"
   ]
  },
  {
   "cell_type": "markdown",
   "id": "2adbf580",
   "metadata": {},
   "source": [
    "#### 4. Identify the student with the highest Chance of Admit? What are their GRE scores?"
   ]
  },
  {
   "cell_type": "code",
   "execution_count": 85,
   "id": "40dbc72a",
   "metadata": {},
   "outputs": [
    {
     "name": "stdout",
     "output_type": "stream",
     "text": [
      "Students who has the highest chance of admit: \n",
      "[( 25, 336, 119, 5, 4. , 3.5, 9.8 , 1, 0.97)\n",
      " (144, 340, 120, 4, 4.5, 4. , 9.92, 1, 0.97)\n",
      " (203, 340, 120, 5, 4.5, 4.5, 9.91, 1, 0.97)\n",
      " (204, 334, 120, 5, 4. , 5. , 9.87, 1, 0.97)]\n",
      "Their GRE scores are: [336 340 340 334]\n"
     ]
    }
   ],
   "source": [
    "highest_chance = grad_students[grad_students['Chance_of_Admit']==grad_students['Chance_of_Admit'].max()]\n",
    "\n",
    "highest_chance_gre = highest_chance['GRE_Score']\n",
    "\n",
    "print(\"Students who has the highest chance of admit: \")\n",
    "\n",
    "print(highest_chance)\n",
    "\n",
    "print(f\"Their GRE scores are: {highest_chance_gre}\")"
   ]
  },
  {
   "cell_type": "markdown",
   "id": "b6ecc59f",
   "metadata": {},
   "source": [
    "#### 5. Identify the students whose TOEFL score is greater than 110.\n",
    "#### Among them, find the students who have the highest GRE scores. \n",
    "#### Ensurethat the top three students have a perfect SOP score. How would you achieve this using Python and NumPy?"
   ]
  },
  {
   "cell_type": "code",
   "execution_count": 86,
   "id": "a4d71775",
   "metadata": {},
   "outputs": [
    {
     "name": "stdout",
     "output_type": "stream",
     "text": [
      "These are the top three students: \n",
      "[(385, 340, 113, 4, 5., 5. , 9.74, 1, 0.96)\n",
      " (285, 340, 112, 4, 5., 4.5, 9.66, 1, 0.94)\n",
      " ( 82, 340, 120, 4, 5., 5. , 9.5 , 1, 0.96)]\n"
     ]
    }
   ],
   "source": [
    "# Students whose TOEFL SCORE greater than 110\n",
    "# Among them find the students who have the highest GRE SCORE\n",
    "# The top three students must have perfect sop Score\n",
    "higher_toefl = grad_students[grad_students['TOEFL_Score']>=110]\n",
    "\n",
    "higher_gre = higher_toefl[higher_toefl['GRE_Score']==higher_toefl[\"GRE_Score\"].max()]\n",
    "\n",
    "top_three = higher_gre[higher_gre['SOP']==higher_gre[\"SOP\"].max()]\n",
    "\n",
    "top_three = sorted(top_three, key=lambda x: x['CGPA'], reverse=1)\n",
    "\n",
    "# after sorting the numpy array is turned to python list\n",
    "# turning it back to numpy array\n",
    "\n",
    "top_three = np.array(top_three)\n",
    "print(\"These are the top three students: \")\n",
    "print(top_three)"
   ]
  }
 ],
 "metadata": {
  "kernelspec": {
   "display_name": "Python 3 (ipykernel)",
   "language": "python",
   "name": "python3"
  },
  "language_info": {
   "codemirror_mode": {
    "name": "ipython",
    "version": 3
   },
   "file_extension": ".py",
   "mimetype": "text/x-python",
   "name": "python",
   "nbconvert_exporter": "python",
   "pygments_lexer": "ipython3",
   "version": "3.10.9"
  }
 },
 "nbformat": 4,
 "nbformat_minor": 5
}
